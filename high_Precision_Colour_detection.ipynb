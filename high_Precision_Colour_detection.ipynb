{
  "nbformat": 4,
  "nbformat_minor": 0,
  "metadata": {
    "colab": {
      "provenance": [],
      "gpuType": "T4"
    },
    "kernelspec": {
      "name": "python3",
      "display_name": "Python 3"
    },
    "language_info": {
      "name": "python"
    },
    "accelerator": "GPU"
  },
  "cells": [
    {
      "cell_type": "code",
      "source": [
        "from google.colab import drive\n",
        "drive.mount('/content/drive')"
      ],
      "metadata": {
        "colab": {
          "base_uri": "https://localhost:8080/"
        },
        "id": "lHrngsLUW9R6",
        "outputId": "ee322912-d607-46dc-8a5e-72433797ea45"
      },
      "execution_count": null,
      "outputs": [
        {
          "output_type": "stream",
          "name": "stdout",
          "text": [
            "Drive already mounted at /content/drive; to attempt to forcibly remount, call drive.mount(\"/content/drive\", force_remount=True).\n"
          ]
        }
      ]
    },
    {
      "cell_type": "code",
      "source": [
        "import tensorflow as tf\n",
        "from tensorflow.keras import Sequential\n",
        "from tensorflow.keras.layers import Dense, Conv2D, MaxPooling2D, Flatten, Dropout\n",
        "import numpy as np\n",
        "import matplotlib.pyplot as plt\n",
        "import pandas as pd\n",
        "from tensorflow.keras.preprocessing import image\n",
        "from tensorflow.keras.preprocessing.image import ImageDataGenerator"
      ],
      "metadata": {
        "id": "tqtpB5y8cQYF"
      },
      "execution_count": null,
      "outputs": []
    },
    {
      "cell_type": "code",
      "source": [
        "# Define the image dimensions and number of classes (colors)\n",
        "img_width, img_height = 64, 64\n",
        "num_classes = 8  # Assuming 8 color classes\n",
        "\n",
        "# Create a CNN model\n",
        "model = Sequential([\n",
        "    Conv2D(32, (3, 3), activation='relu', input_shape=(img_width, img_height, 3)),\n",
        "    MaxPooling2D(pool_size=(2, 2)),\n",
        "    Conv2D(64, (3, 3), activation='relu'),\n",
        "    MaxPooling2D(pool_size=(2, 2)),\n",
        "    Conv2D(128, (3, 3), activation='relu'),\n",
        "    MaxPooling2D(pool_size=(2, 2)),\n",
        "    Flatten(),\n",
        "    Dense(256, activation='relu'),\n",
        "    Dropout(0.5),  # Add dropout for regularization\n",
        "    Dense(num_classes, activation='softmax')\n",
        "])\n",
        "\n",
        "model.compile(optimizer='adam', loss='categorical_crossentropy', metrics=['accuracy'])\n",
        "\n",
        "# Define data generators for training and validation with data augmentation\n",
        "train_datagen = ImageDataGenerator(rescale=1./255, shear_range=0.2, zoom_range=0.2, horizontal_flip=True)\n",
        "test_datagen = ImageDataGenerator(rescale=1./255)\n",
        "\n",
        "# Correct the path to training and validation directories\n",
        "train_generator = train_datagen.flow_from_directory('/content/drive/MyDrive/DL Datasets/training_dataset', target_size=(img_width, img_height), batch_size=32, class_mode='categorical')\n",
        "validation_generator = test_datagen.flow_from_directory('/content/drive/MyDrive/DL Datasets/validation_dataset', target_size=(img_width, img_height), batch_size=32, class_mode='categorical')\n",
        "\n",
        "# Compute class weights to handle class imbalance\n",
        "class_counts = train_generator.classes\n",
        "total_samples = len(train_generator.labels)\n",
        "class_weights = {i: total_samples / (num_classes * np.sum(class_counts == i)) for i in range(num_classes)}\n",
        "\n",
        "# Train the model with class weights\n",
        "model.fit(train_generator, epochs=10, validation_data=validation_generator, class_weight=class_weights)\n",
        "\n"
      ],
      "metadata": {
        "colab": {
          "base_uri": "https://localhost:8080/"
        },
        "id": "PERZWu-GnCxd",
        "outputId": "b8770ad4-7b3f-47fa-8ca0-d030685935ec"
      },
      "execution_count": null,
      "outputs": [
        {
          "output_type": "stream",
          "name": "stdout",
          "text": [
            "Found 220 images belonging to 8 classes.\n",
            "Found 0 images belonging to 0 classes.\n",
            "Epoch 1/10\n",
            "7/7 [==============================] - 78s 12s/step - loss: 1.6993 - accuracy: 0.2955\n",
            "Epoch 2/10\n",
            "7/7 [==============================] - 2s 267ms/step - loss: 0.7677 - accuracy: 0.7727\n",
            "Epoch 3/10\n",
            "7/7 [==============================] - 2s 210ms/step - loss: 0.4643 - accuracy: 0.8227\n",
            "Epoch 4/10\n",
            "7/7 [==============================] - 1s 203ms/step - loss: 0.3131 - accuracy: 0.9364\n",
            "Epoch 5/10\n",
            "7/7 [==============================] - 1s 202ms/step - loss: 0.1956 - accuracy: 0.9636\n",
            "Epoch 6/10\n",
            "7/7 [==============================] - 1s 203ms/step - loss: 0.1517 - accuracy: 0.9545\n",
            "Epoch 7/10\n",
            "7/7 [==============================] - 1s 200ms/step - loss: 0.1987 - accuracy: 0.9545\n",
            "Epoch 8/10\n",
            "7/7 [==============================] - 2s 212ms/step - loss: 0.2118 - accuracy: 0.9364\n",
            "Epoch 9/10\n",
            "7/7 [==============================] - 2s 273ms/step - loss: 0.0948 - accuracy: 0.9727\n",
            "Epoch 10/10\n",
            "7/7 [==============================] - 2s 212ms/step - loss: 0.0531 - accuracy: 0.9773\n"
          ]
        },
        {
          "output_type": "execute_result",
          "data": {
            "text/plain": [
              "<keras.src.callbacks.History at 0x7cf568f6ac50>"
            ]
          },
          "metadata": {},
          "execution_count": 3
        }
      ]
    },
    {
      "cell_type": "code",
      "source": [
        " #Corrected class labels list to match the model's output\n",
        "# Corrected class labels list to match the dataset order\n",
        "color_labels = ['black', 'blue', 'green', 'orange', 'red', 'violet', 'white', 'yellow']\n",
        "print(\"Class Labels:\", color_labels)\n",
        "\n",
        "def predict_color(image_path):\n",
        "    print(image_path)\n",
        "    img = load_and_preprocess_image(image_path)\n",
        "    prediction = model.predict(img)\n",
        "    print(prediction)\n",
        "    predicted_color_index = np.argmax(prediction)\n",
        "    predicted_color = color_labels[predicted_color_index]  # Use the correct mapping from class indices to labels\n",
        "    return predicted_color\n",
        "\n",
        "# Load and preprocess an image for prediction\n",
        "def load_and_preprocess_image(image_path):\n",
        "    img = image.load_img(image_path, target_size=(img_width, img_height))\n",
        "    img_array = image.img_to_array(img)\n",
        "    img_array = np.expand_dims(img_array, axis=0)\n",
        "    img_array /= 255.0  # Normalize the image\n",
        "    return img_array\n",
        "\n",
        "# Example usage\n",
        "test_image_path = '/content/drive/MyDrive/DL Datasets/validation_dataset/black_cat.jpg'\n",
        "predicted_color = predict_color(test_image_path)\n",
        "print('\\n\\nPredicted Color(i.e - High Intensed Colour) :', predicted_color)"
      ],
      "metadata": {
        "colab": {
          "base_uri": "https://localhost:8080/"
        },
        "id": "XnnB7KGInVAv",
        "outputId": "3d0319ea-ee8e-44dd-81a0-de792667dd29"
      },
      "execution_count": null,
      "outputs": [
        {
          "output_type": "stream",
          "name": "stdout",
          "text": [
            "Class Labels: ['black', 'blue', 'green', 'orange', 'red', 'violet', 'white', 'yellow']\n",
            "/content/drive/MyDrive/DL Datasets/validation_dataset/black_cat.jpg\n",
            "1/1 [==============================] - 0s 309ms/step\n",
            "[[8.3958274e-01 3.8370244e-02 3.1001301e-02 4.3291729e-03 2.2116520e-02\n",
            "  5.4013398e-03 5.8789991e-02 4.0871408e-04]]\n",
            "\n",
            "\n",
            "Predicted Color(i.e - High Intensed Colour) : black\n"
          ]
        }
      ]
    },
    {
      "cell_type": "code",
      "source": [
        "model.summary()"
      ],
      "metadata": {
        "id": "e1tNYY8doeKU",
        "colab": {
          "base_uri": "https://localhost:8080/"
        },
        "outputId": "0a1bec0f-e4af-4447-91ba-02a9c63b7b2e"
      },
      "execution_count": null,
      "outputs": [
        {
          "output_type": "stream",
          "name": "stdout",
          "text": [
            "Model: \"sequential\"\n",
            "_________________________________________________________________\n",
            " Layer (type)                Output Shape              Param #   \n",
            "=================================================================\n",
            " conv2d (Conv2D)             (None, 62, 62, 32)        896       \n",
            "                                                                 \n",
            " max_pooling2d (MaxPooling2  (None, 31, 31, 32)        0         \n",
            " D)                                                              \n",
            "                                                                 \n",
            " conv2d_1 (Conv2D)           (None, 29, 29, 64)        18496     \n",
            "                                                                 \n",
            " max_pooling2d_1 (MaxPoolin  (None, 14, 14, 64)        0         \n",
            " g2D)                                                            \n",
            "                                                                 \n",
            " conv2d_2 (Conv2D)           (None, 12, 12, 128)       73856     \n",
            "                                                                 \n",
            " max_pooling2d_2 (MaxPoolin  (None, 6, 6, 128)         0         \n",
            " g2D)                                                            \n",
            "                                                                 \n",
            " flatten (Flatten)           (None, 4608)              0         \n",
            "                                                                 \n",
            " dense (Dense)               (None, 256)               1179904   \n",
            "                                                                 \n",
            " dropout (Dropout)           (None, 256)               0         \n",
            "                                                                 \n",
            " dense_1 (Dense)             (None, 8)                 2056      \n",
            "                                                                 \n",
            "=================================================================\n",
            "Total params: 1275208 (4.86 MB)\n",
            "Trainable params: 1275208 (4.86 MB)\n",
            "Non-trainable params: 0 (0.00 Byte)\n",
            "_________________________________________________________________\n"
          ]
        }
      ]
    },
    {
      "cell_type": "code",
      "source": [],
      "metadata": {
        "id": "biHlQBQpaSQQ"
      },
      "execution_count": null,
      "outputs": []
    }
  ]
}